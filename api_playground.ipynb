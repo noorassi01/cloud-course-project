{
 "cells": [
  {
   "cell_type": "code",
   "execution_count": 1,
   "metadata": {},
   "outputs": [
    {
     "name": "stdout",
     "output_type": "stream",
     "text": [
      "200\n",
      "{'Date': 'Sat, 03 Aug 2024 16:49:02 GMT', 'Content-Type': 'application/json', 'Content-Length': '0', 'Connection': 'keep-alive', 'x-amzn-RequestId': '07190a1f-b4d1-4ef7-ab74-4db344b39847', 'x-amz-apigw-id': 'b8PbyEdKCYcEeHw='}\n",
      "\n"
     ]
    }
   ],
   "source": [
    "import requests\n",
    "\n",
    "BASE_URL = \"https://c7237auqz9.execute-api.us-east-2.amazonaws.com/prod\"\n",
    "\n",
    "r = requests.get(\n",
    "    url=f\"{BASE_URL}/greeting\"\n",
    ")\n",
    "\n",
    "print(r.status_code)\n",
    "print(r.headers)\n",
    "print(r.text)"
   ]
  }
 ],
 "metadata": {
  "kernelspec": {
   "display_name": "venv",
   "language": "python",
   "name": "python3"
  },
  "language_info": {
   "codemirror_mode": {
    "name": "ipython",
    "version": 3
   },
   "file_extension": ".py",
   "mimetype": "text/x-python",
   "name": "python",
   "nbconvert_exporter": "python",
   "pygments_lexer": "ipython3",
   "version": "3.12.3"
  }
 },
 "nbformat": 4,
 "nbformat_minor": 2
}
