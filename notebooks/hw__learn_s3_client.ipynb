{
 "cells": [
  {
   "cell_type": "markdown",
   "metadata": {},
   "source": [
    "# AWS S3 Operations using Boto3\n",
    "\n",
    "In this notebook, we will perform several operations on AWS S3 using Boto3. \n",
    "\n",
    "These operations include:\n",
    "\n",
    "- creating an S3 bucket\n",
    "- writing an object\n",
    "- listing objects\n",
    "- reading the contents of an object\n",
    "- deleting an object\n",
    "- updating an object\n",
    "- and handling errors for non-existent objects. \n",
    "  \n",
    "We will also demonstrate how to write files with different prefixes and query files by prefix.\n",
    "\n",
    "## For this notebook to run...\n",
    "\n",
    "You will need to have these libraries installed\n",
    "\n",
    "- `boto3`\n",
    "- `boto3-stubs[s3]`\n",
    "- `rich`\n",
    "- `ipykernel`\n",
    "\n",
    "The recommended approach is to set up your `pyproject.toml` like so:\n",
    "\n",
    "```toml\n",
    "[project]\n",
    "...\n",
    "dependencies = ['importlib-metadata; python_version<\"3.8\"', \"boto3\"]\n",
    "\n",
    "[project.optional-dependencies]\n",
    "stubs = [\"boto3-stubs[s3]\"]\n",
    "notebooks = [\"jupyterlab\", \"ipykernel\", \"rich\"]\n",
    "...\n",
    "dev = [\"cloud-course-project[test,release,static-code-qa,stubs,notebooks]\"]\n",
    "```\n",
    "\n",
    "So that `pip install --editable './[dev]'` will install all the necessary dependencies into your venv.\n",
    "\n",
    "## Instructions for setting up autocompletion in Jupyter Notebooks in VS Code\n",
    "\n",
    "1. Install the development dependencies:\n",
    "```sh\n",
    "pip install --editable './[dev]'\n",
    "```\n",
    "2. Select the notebook kernel and point it to your virtual environment:\n",
    "```sh\n",
    "which python\n",
    "```\n",
    "3. Select the VS Code Python interpreter and point it to your virtual environment:\n",
    "```sh\n",
    "which python\n",
    "```\n",
    "4. Reload the VS Code window (`Ctrl/Cmd + Shift + P` > `Developer: Reload Window`)\n"
   ]
  },
  {
   "cell_type": "code",
   "execution_count": 1,
   "metadata": {},
   "outputs": [],
   "source": [
    "# Import necessary libraries\n",
    "import boto3\n",
    "from botocore.exceptions import ClientError\n",
    "from uuid import uuid4  # randomly generated string\n",
    "from rich import print  # pretty printing\n",
    "import os\n",
    "from typing import Optional\n",
    "\n",
    "try:\n",
    "    from mypy_boto3_s3 import S3Client\n",
    "except ImportError:\n",
    "    print(\"mypy_boto3_s3 not installed\")"
   ]
  },
  {
   "cell_type": "code",
   "execution_count": 2,
   "metadata": {},
   "outputs": [
    {
     "data": {
      "text/html": [
       "<pre style=\"white-space:pre;overflow-x:auto;line-height:normal;font-family:Menlo,'DejaVu Sans Mono',consolas,'Courier New',monospace\"><span style=\"color: #808000; text-decoration-color: #808000\">BUCKET_NAME</span>=<span style=\"color: #008000; text-decoration-color: #008000\">'cloud-course-bucket-4135'</span>\n",
       "</pre>\n"
      ],
      "text/plain": [
       "\u001b[33mBUCKET_NAME\u001b[0m=\u001b[32m'cloud-course-bucket-4135'\u001b[0m\n"
      ]
     },
     "metadata": {},
     "output_type": "display_data"
    },
    {
     "data": {
      "text/html": [
       "<pre style=\"white-space:pre;overflow-x:auto;line-height:normal;font-family:Menlo,'DejaVu Sans Mono',consolas,'Courier New',monospace\"><span style=\"color: #808000; text-decoration-color: #808000\">EXAMPLE_OBJECT_KEY</span>=<span style=\"color: #008000; text-decoration-color: #008000\">'example/object/file.txt'</span>\n",
       "</pre>\n"
      ],
      "text/plain": [
       "\u001b[33mEXAMPLE_OBJECT_KEY\u001b[0m=\u001b[32m'example/object/file.txt'\u001b[0m\n"
      ]
     },
     "metadata": {},
     "output_type": "display_data"
    },
    {
     "data": {
      "text/html": [
       "<pre style=\"white-space:pre;overflow-x:auto;line-height:normal;font-family:Menlo,'DejaVu Sans Mono',consolas,'Courier New',monospace\"><span style=\"color: #808000; text-decoration-color: #808000\">EXAMPLE_OBJECT_CONTENT</span>=<span style=\"color: #008000; text-decoration-color: #008000\">'This is a test object.'</span>\n",
       "</pre>\n"
      ],
      "text/plain": [
       "\u001b[33mEXAMPLE_OBJECT_CONTENT\u001b[0m=\u001b[32m'This is a test object.'\u001b[0m\n"
      ]
     },
     "metadata": {},
     "output_type": "display_data"
    }
   ],
   "source": [
    "# define constants\n",
    "\n",
    "# Set the profile and region for the AWS SDK (boto3) to use\n",
    "os.environ[\"AWS_PROFILE\"] = \"cloud-course\"\n",
    "os.environ[\"AWS_REGION\"] = \"us-west-2\"\n",
    "\n",
    "# Create a session using the specified profile and region\n",
    "S3_CLIENT: \"S3Client\" = boto3.client(\"s3\")\n",
    "\n",
    "BUCKET_NAME = f\"cloud-course-bucket-{str(uuid4())[:4]}\"\n",
    "\n",
    "# Single example object\n",
    "EXAMPLE_OBJECT_KEY = \"example/object/file.txt\"\n",
    "EXAMPLE_OBJECT_CONTENT = \"This is a test object.\"\n",
    "\n",
    "# Multiple example objects\n",
    "EXAMPLE_OBJECTS = [\n",
    "    (\"example-a/object/file1.txt\", \"This is a test object.\"),\n",
    "    (\"example-a/object/file2.txt\", \"This is another test object.\"),\n",
    "    (\"example-a/object/file3.txt\", \"This is yet another test object.\"),\n",
    "    (\"example-b/object/file1.txt\", \"This is a test object.\"),\n",
    "    (\"example-b/object/file2.txt\", \"This is another test object.\"),\n",
    "    (\"example-b/object/file3.txt\", \"This is yet another test object.\"),\n",
    "]\n",
    "\n",
    "print(f\"{BUCKET_NAME=}\")\n",
    "print(f\"{EXAMPLE_OBJECT_KEY=}\")\n",
    "print(f\"{EXAMPLE_OBJECT_CONTENT=}\")"
   ]
  },
  {
   "cell_type": "markdown",
   "metadata": {},
   "source": [
    "## Create a bucket\n",
    "\n",
    "Here, we create an S3 bucket. Anything you can do in the AWS console, you can do programatically!"
   ]
  },
  {
   "cell_type": "code",
   "execution_count": 3,
   "metadata": {},
   "outputs": [
    {
     "data": {
      "text/html": [
       "<pre style=\"white-space:pre;overflow-x:auto;line-height:normal;font-family:Menlo,'DejaVu Sans Mono',consolas,'Courier New',monospace\">Bucket <span style=\"color: #008000; text-decoration-color: #008000\">'cloud-course-bucket-4135'</span> created successfully.\n",
       "</pre>\n"
      ],
      "text/plain": [
       "Bucket \u001b[32m'cloud-course-bucket-4135'\u001b[0m created successfully.\n"
      ]
     },
     "metadata": {},
     "output_type": "display_data"
    },
    {
     "data": {
      "text/html": [
       "<pre style=\"white-space:pre;overflow-x:auto;line-height:normal;font-family:Menlo,'DejaVu Sans Mono',consolas,'Courier New',monospace\"><span style=\"font-weight: bold\">{</span>\n",
       "    <span style=\"color: #008000; text-decoration-color: #008000\">'ResponseMetadata'</span>: <span style=\"font-weight: bold\">{</span>\n",
       "        <span style=\"color: #008000; text-decoration-color: #008000\">'RequestId'</span>: <span style=\"color: #008000; text-decoration-color: #008000\">'DSCHZYMWKVBVE2ZM'</span>,\n",
       "        <span style=\"color: #008000; text-decoration-color: #008000\">'HostId'</span>: <span style=\"color: #008000; text-decoration-color: #008000\">'V3KdpSW7mXYrImzPsz7chL9D3u91OeQ5HxnlreW4BSk+sQJTznqxprkaBHFmPbvkAae6VCK2iNs='</span>,\n",
       "        <span style=\"color: #008000; text-decoration-color: #008000\">'HTTPStatusCode'</span>: <span style=\"color: #008080; text-decoration-color: #008080; font-weight: bold\">200</span>,\n",
       "        <span style=\"color: #008000; text-decoration-color: #008000\">'HTTPHeaders'</span>: <span style=\"font-weight: bold\">{</span>\n",
       "            <span style=\"color: #008000; text-decoration-color: #008000\">'x-amz-id-2'</span>: <span style=\"color: #008000; text-decoration-color: #008000\">'V3KdpSW7mXYrImzPsz7chL9D3u91OeQ5HxnlreW4BSk+sQJTznqxprkaBHFmPbvkAae6VCK2iNs='</span>,\n",
       "            <span style=\"color: #008000; text-decoration-color: #008000\">'x-amz-request-id'</span>: <span style=\"color: #008000; text-decoration-color: #008000\">'DSCHZYMWKVBVE2ZM'</span>,\n",
       "            <span style=\"color: #008000; text-decoration-color: #008000\">'date'</span>: <span style=\"color: #008000; text-decoration-color: #008000\">'Tue, 11 Jun 2024 15:38:03 GMT'</span>,\n",
       "            <span style=\"color: #008000; text-decoration-color: #008000\">'location'</span>: <span style=\"color: #008000; text-decoration-color: #008000\">'/cloud-course-bucket-4135'</span>,\n",
       "            <span style=\"color: #008000; text-decoration-color: #008000\">'server'</span>: <span style=\"color: #008000; text-decoration-color: #008000\">'AmazonS3'</span>,\n",
       "            <span style=\"color: #008000; text-decoration-color: #008000\">'content-length'</span>: <span style=\"color: #008000; text-decoration-color: #008000\">'0'</span>\n",
       "        <span style=\"font-weight: bold\">}</span>,\n",
       "        <span style=\"color: #008000; text-decoration-color: #008000\">'RetryAttempts'</span>: <span style=\"color: #008080; text-decoration-color: #008080; font-weight: bold\">0</span>\n",
       "    <span style=\"font-weight: bold\">}</span>,\n",
       "    <span style=\"color: #008000; text-decoration-color: #008000\">'Location'</span>: <span style=\"color: #008000; text-decoration-color: #008000\">'/cloud-course-bucket-4135'</span>\n",
       "<span style=\"font-weight: bold\">}</span>\n",
       "</pre>\n"
      ],
      "text/plain": [
       "\u001b[1m{\u001b[0m\n",
       "    \u001b[32m'ResponseMetadata'\u001b[0m: \u001b[1m{\u001b[0m\n",
       "        \u001b[32m'RequestId'\u001b[0m: \u001b[32m'DSCHZYMWKVBVE2ZM'\u001b[0m,\n",
       "        \u001b[32m'HostId'\u001b[0m: \u001b[32m'V3KdpSW7mXYrImzPsz7chL9D3u91OeQ5HxnlreW4BSk+\u001b[0m\u001b[32msQJTznqxprkaBHFmPbvkAae6VCK2iNs\u001b[0m\u001b[32m='\u001b[0m,\n",
       "        \u001b[32m'HTTPStatusCode'\u001b[0m: \u001b[1;36m200\u001b[0m,\n",
       "        \u001b[32m'HTTPHeaders'\u001b[0m: \u001b[1m{\u001b[0m\n",
       "            \u001b[32m'x-amz-id-2'\u001b[0m: \u001b[32m'V3KdpSW7mXYrImzPsz7chL9D3u91OeQ5HxnlreW4BSk+\u001b[0m\u001b[32msQJTznqxprkaBHFmPbvkAae6VCK2iNs\u001b[0m\u001b[32m='\u001b[0m,\n",
       "            \u001b[32m'x-amz-request-id'\u001b[0m: \u001b[32m'DSCHZYMWKVBVE2ZM'\u001b[0m,\n",
       "            \u001b[32m'date'\u001b[0m: \u001b[32m'Tue, 11 Jun 2024 15:38:03 GMT'\u001b[0m,\n",
       "            \u001b[32m'location'\u001b[0m: \u001b[32m'/cloud-course-bucket-4135'\u001b[0m,\n",
       "            \u001b[32m'server'\u001b[0m: \u001b[32m'AmazonS3'\u001b[0m,\n",
       "            \u001b[32m'content-length'\u001b[0m: \u001b[32m'0'\u001b[0m\n",
       "        \u001b[1m}\u001b[0m,\n",
       "        \u001b[32m'RetryAttempts'\u001b[0m: \u001b[1;36m0\u001b[0m\n",
       "    \u001b[1m}\u001b[0m,\n",
       "    \u001b[32m'Location'\u001b[0m: \u001b[32m'/cloud-course-bucket-4135'\u001b[0m\n",
       "\u001b[1m}\u001b[0m\n"
      ]
     },
     "metadata": {},
     "output_type": "display_data"
    }
   ],
   "source": [
    "try:\n",
    "    from mypy_boto3_s3.type_defs import CreateBucketOutputTypeDef\n",
    "except ImportError:\n",
    "    print(\"boto3-stubs[s3] not installed\")\n",
    "\n",
    "\n",
    "def create_bucket(bucket_name: str) -> Optional[\"CreateBucketOutputTypeDef\"]:\n",
    "    \"\"\"\n",
    "    Create an S3 bucket.\n",
    "\n",
    "    :param bucket_name: Name of the bucket to create\n",
    "    :type bucket_name: str\n",
    "    \"\"\"\n",
    "    response = S3_CLIENT.create_bucket(Bucket=bucket_name)\n",
    "    return response\n",
    "\n",
    "\n",
    "# Create the bucket\n",
    "response = create_bucket(bucket_name=BUCKET_NAME)\n",
    "print(f\"Bucket '{BUCKET_NAME}' created successfully.\")\n",
    "print(response)"
   ]
  },
  {
   "cell_type": "markdown",
   "metadata": {},
   "source": [
    "## Write an object to the bucket\n",
    "\n",
    "In this exercise, you will write an object to the S3 bucket.\n",
    "\n",
    "\"S3 Paths\" are URLs of the form `s3://bucket-name/key`. The `key` is the path to the object in the bucket. For example, `s3://my-bucket-name/my-key` refers to the object with key `my-key` in the bucket `my-bucket-name`.\n",
    "\n",
    "Some examples:\n",
    "\n",
    "| Path | Bucket | Object Key |\n",
    "| --- | --- | --- |\n",
    "| `s3://my-bucket/images/profile.jpeg` | `my-bucket` | `images/profile.jpeg` |\n",
    "| `s3://my-bucket/data/2021/01/01/data.csv` | `my-bucket` | `data/2021/01/01/data.csv` |\n",
    "| `s3://my-bucket/file.json` | `my-bucket` | `file.json` |\n"
   ]
  },
  {
   "cell_type": "code",
   "execution_count": 4,
   "metadata": {},
   "outputs": [
    {
     "data": {
      "text/html": [
       "<pre style=\"white-space:pre;overflow-x:auto;line-height:normal;font-family:Menlo,'DejaVu Sans Mono',consolas,'Courier New',monospace\"><span style=\"font-weight: bold\">{</span>\n",
       "    <span style=\"color: #008000; text-decoration-color: #008000\">'ResponseMetadata'</span>: <span style=\"font-weight: bold\">{</span>\n",
       "        <span style=\"color: #008000; text-decoration-color: #008000\">'RequestId'</span>: <span style=\"color: #008000; text-decoration-color: #008000\">'8SWR278ET4ZME1P1'</span>,\n",
       "        <span style=\"color: #008000; text-decoration-color: #008000\">'HostId'</span>: <span style=\"color: #008000; text-decoration-color: #008000\">'+BiXcv9pYWvklH3irKneO8XIcf0hXi2o5Lr6AYxnsEdkCbFRj6D7NUx4LqJbbqVP+cZqCl1+nDk='</span>,\n",
       "        <span style=\"color: #008000; text-decoration-color: #008000\">'HTTPStatusCode'</span>: <span style=\"color: #008080; text-decoration-color: #008080; font-weight: bold\">200</span>,\n",
       "        <span style=\"color: #008000; text-decoration-color: #008000\">'HTTPHeaders'</span>: <span style=\"font-weight: bold\">{</span>\n",
       "            <span style=\"color: #008000; text-decoration-color: #008000\">'x-amz-id-2'</span>: <span style=\"color: #008000; text-decoration-color: #008000\">'+BiXcv9pYWvklH3irKneO8XIcf0hXi2o5Lr6AYxnsEdkCbFRj6D7NUx4LqJbbqVP+cZqCl1+nDk='</span>,\n",
       "            <span style=\"color: #008000; text-decoration-color: #008000\">'x-amz-request-id'</span>: <span style=\"color: #008000; text-decoration-color: #008000\">'8SWR278ET4ZME1P1'</span>,\n",
       "            <span style=\"color: #008000; text-decoration-color: #008000\">'date'</span>: <span style=\"color: #008000; text-decoration-color: #008000\">'Tue, 11 Jun 2024 15:38:05 GMT'</span>,\n",
       "            <span style=\"color: #008000; text-decoration-color: #008000\">'x-amz-server-side-encryption'</span>: <span style=\"color: #008000; text-decoration-color: #008000\">'AES256'</span>,\n",
       "            <span style=\"color: #008000; text-decoration-color: #008000\">'etag'</span>: <span style=\"color: #008000; text-decoration-color: #008000\">'\"fac2cbcd7b7417c0325922b689019c65\"'</span>,\n",
       "            <span style=\"color: #008000; text-decoration-color: #008000\">'server'</span>: <span style=\"color: #008000; text-decoration-color: #008000\">'AmazonS3'</span>,\n",
       "            <span style=\"color: #008000; text-decoration-color: #008000\">'content-length'</span>: <span style=\"color: #008000; text-decoration-color: #008000\">'0'</span>\n",
       "        <span style=\"font-weight: bold\">}</span>,\n",
       "        <span style=\"color: #008000; text-decoration-color: #008000\">'RetryAttempts'</span>: <span style=\"color: #008080; text-decoration-color: #008080; font-weight: bold\">0</span>\n",
       "    <span style=\"font-weight: bold\">}</span>,\n",
       "    <span style=\"color: #008000; text-decoration-color: #008000\">'ETag'</span>: <span style=\"color: #008000; text-decoration-color: #008000\">'\"fac2cbcd7b7417c0325922b689019c65\"'</span>,\n",
       "    <span style=\"color: #008000; text-decoration-color: #008000\">'ServerSideEncryption'</span>: <span style=\"color: #008000; text-decoration-color: #008000\">'AES256'</span>\n",
       "<span style=\"font-weight: bold\">}</span>\n",
       "</pre>\n"
      ],
      "text/plain": [
       "\u001b[1m{\u001b[0m\n",
       "    \u001b[32m'ResponseMetadata'\u001b[0m: \u001b[1m{\u001b[0m\n",
       "        \u001b[32m'RequestId'\u001b[0m: \u001b[32m'8SWR278ET4ZME1P1'\u001b[0m,\n",
       "        \u001b[32m'HostId'\u001b[0m: \u001b[32m'+BiXcv9pYWvklH3irKneO8XIcf0hXi2o5Lr6AYxnsEdkCbFRj6D7NUx4LqJbbqVP+cZqCl1+\u001b[0m\u001b[32mnDk\u001b[0m\u001b[32m='\u001b[0m,\n",
       "        \u001b[32m'HTTPStatusCode'\u001b[0m: \u001b[1;36m200\u001b[0m,\n",
       "        \u001b[32m'HTTPHeaders'\u001b[0m: \u001b[1m{\u001b[0m\n",
       "            \u001b[32m'x-amz-id-2'\u001b[0m: \u001b[32m'+BiXcv9pYWvklH3irKneO8XIcf0hXi2o5Lr6AYxnsEdkCbFRj6D7NUx4LqJbbqVP+cZqCl1+\u001b[0m\u001b[32mnDk\u001b[0m\u001b[32m='\u001b[0m,\n",
       "            \u001b[32m'x-amz-request-id'\u001b[0m: \u001b[32m'8SWR278ET4ZME1P1'\u001b[0m,\n",
       "            \u001b[32m'date'\u001b[0m: \u001b[32m'Tue, 11 Jun 2024 15:38:05 GMT'\u001b[0m,\n",
       "            \u001b[32m'x-amz-server-side-encryption'\u001b[0m: \u001b[32m'AES256'\u001b[0m,\n",
       "            \u001b[32m'etag'\u001b[0m: \u001b[32m'\"fac2cbcd7b7417c0325922b689019c65\"'\u001b[0m,\n",
       "            \u001b[32m'server'\u001b[0m: \u001b[32m'AmazonS3'\u001b[0m,\n",
       "            \u001b[32m'content-length'\u001b[0m: \u001b[32m'0'\u001b[0m\n",
       "        \u001b[1m}\u001b[0m,\n",
       "        \u001b[32m'RetryAttempts'\u001b[0m: \u001b[1;36m0\u001b[0m\n",
       "    \u001b[1m}\u001b[0m,\n",
       "    \u001b[32m'ETag'\u001b[0m: \u001b[32m'\"fac2cbcd7b7417c0325922b689019c65\"'\u001b[0m,\n",
       "    \u001b[32m'ServerSideEncryption'\u001b[0m: \u001b[32m'AES256'\u001b[0m\n",
       "\u001b[1m}\u001b[0m\n"
      ]
     },
     "metadata": {},
     "output_type": "display_data"
    },
    {
     "data": {
      "text/html": [
       "<pre style=\"white-space:pre;overflow-x:auto;line-height:normal;font-family:Menlo,'DejaVu Sans Mono',consolas,'Courier New',monospace\">Writing object to path <span style=\"color: #008000; text-decoration-color: #008000\">'s3://cloud-course-bucket-4135/example-a/object/file1.txt'</span>\n",
       "</pre>\n"
      ],
      "text/plain": [
       "Writing object to path \u001b[32m's3://cloud-course-bucket-4135/example-a/object/file1.txt'\u001b[0m\n"
      ]
     },
     "metadata": {},
     "output_type": "display_data"
    },
    {
     "data": {
      "text/html": [
       "<pre style=\"white-space:pre;overflow-x:auto;line-height:normal;font-family:Menlo,'DejaVu Sans Mono',consolas,'Courier New',monospace\">Writing object to path <span style=\"color: #008000; text-decoration-color: #008000\">'s3://cloud-course-bucket-4135/example-a/object/file2.txt'</span>\n",
       "</pre>\n"
      ],
      "text/plain": [
       "Writing object to path \u001b[32m's3://cloud-course-bucket-4135/example-a/object/file2.txt'\u001b[0m\n"
      ]
     },
     "metadata": {},
     "output_type": "display_data"
    },
    {
     "data": {
      "text/html": [
       "<pre style=\"white-space:pre;overflow-x:auto;line-height:normal;font-family:Menlo,'DejaVu Sans Mono',consolas,'Courier New',monospace\">Writing object to path <span style=\"color: #008000; text-decoration-color: #008000\">'s3://cloud-course-bucket-4135/example-a/object/file3.txt'</span>\n",
       "</pre>\n"
      ],
      "text/plain": [
       "Writing object to path \u001b[32m's3://cloud-course-bucket-4135/example-a/object/file3.txt'\u001b[0m\n"
      ]
     },
     "metadata": {},
     "output_type": "display_data"
    },
    {
     "data": {
      "text/html": [
       "<pre style=\"white-space:pre;overflow-x:auto;line-height:normal;font-family:Menlo,'DejaVu Sans Mono',consolas,'Courier New',monospace\">Writing object to path <span style=\"color: #008000; text-decoration-color: #008000\">'s3://cloud-course-bucket-4135/example-b/object/file1.txt'</span>\n",
       "</pre>\n"
      ],
      "text/plain": [
       "Writing object to path \u001b[32m's3://cloud-course-bucket-4135/example-b/object/file1.txt'\u001b[0m\n"
      ]
     },
     "metadata": {},
     "output_type": "display_data"
    },
    {
     "data": {
      "text/html": [
       "<pre style=\"white-space:pre;overflow-x:auto;line-height:normal;font-family:Menlo,'DejaVu Sans Mono',consolas,'Courier New',monospace\">Writing object to path <span style=\"color: #008000; text-decoration-color: #008000\">'s3://cloud-course-bucket-4135/example-b/object/file2.txt'</span>\n",
       "</pre>\n"
      ],
      "text/plain": [
       "Writing object to path \u001b[32m's3://cloud-course-bucket-4135/example-b/object/file2.txt'\u001b[0m\n"
      ]
     },
     "metadata": {},
     "output_type": "display_data"
    },
    {
     "data": {
      "text/html": [
       "<pre style=\"white-space:pre;overflow-x:auto;line-height:normal;font-family:Menlo,'DejaVu Sans Mono',consolas,'Courier New',monospace\">Writing object to path <span style=\"color: #008000; text-decoration-color: #008000\">'s3://cloud-course-bucket-4135/example-b/object/file3.txt'</span>\n",
       "</pre>\n"
      ],
      "text/plain": [
       "Writing object to path \u001b[32m's3://cloud-course-bucket-4135/example-b/object/file3.txt'\u001b[0m\n"
      ]
     },
     "metadata": {},
     "output_type": "display_data"
    }
   ],
   "source": [
    "try:\n",
    "    from mypy_boto3_s3.type_defs import PutObjectOutputTypeDef\n",
    "except ImportError:\n",
    "    print(\"boto3-stubs[s3] not installed\")\n",
    "\n",
    "\n",
    "def write_text_object_to_s3(\n",
    "    bucket_name: str,\n",
    "    object_key: str,\n",
    "    object_content: str,\n",
    ") -> Optional[\"PutObjectOutputTypeDef\"]:\n",
    "    \"\"\"\n",
    "    Write an object to an S3 bucket.\n",
    "\n",
    "    :param bucket_name: Name of the bucket to write to\n",
    "    :param object_key: Key of the object to write\n",
    "    :param object_content: Content of the object to write\n",
    "    :return: Response from the put_object call\n",
    "    \"\"\"\n",
    "    response = S3_CLIENT.put_object(Bucket=bucket_name, Key=object_key, Body=object_content)\n",
    "    return response\n",
    "\n",
    "\n",
    "# Write the single example to S3\n",
    "response = write_text_object_to_s3(\n",
    "    bucket_name=BUCKET_NAME,\n",
    "    object_key=EXAMPLE_OBJECT_KEY,\n",
    "    object_content=EXAMPLE_OBJECT_CONTENT,\n",
    ")\n",
    "print(response)\n",
    "\n",
    "# Write the rest of the examples to S3\n",
    "for object_key, object_content in EXAMPLE_OBJECTS:\n",
    "    print(f\"Writing object to path 's3://{BUCKET_NAME}/{object_key}'\")\n",
    "    write_text_object_to_s3(\n",
    "        bucket_name=BUCKET_NAME,\n",
    "        object_key=object_key,\n",
    "        object_content=object_content,\n",
    "    )"
   ]
  },
  {
   "cell_type": "markdown",
   "metadata": {},
   "source": [
    "## Read the content of an object\n",
    "\n",
    "In this exercise, you will read the content of an object from the S3 bucket."
   ]
  },
  {
   "cell_type": "code",
   "execution_count": 5,
   "metadata": {},
   "outputs": [
    {
     "data": {
      "text/html": [
       "<pre style=\"white-space:pre;overflow-x:auto;line-height:normal;font-family:Menlo,'DejaVu Sans Mono',consolas,'Courier New',monospace\">Content of object <span style=\"color: #008000; text-decoration-color: #008000\">'example/object/file.txt'</span>:\n",
       "<span style=\"color: #008000; text-decoration-color: #008000\">'This is a test object.'</span>\n",
       "</pre>\n"
      ],
      "text/plain": [
       "Content of object \u001b[32m'example/object/file.txt'\u001b[0m:\n",
       "\u001b[32m'This is a test object.'\u001b[0m\n"
      ]
     },
     "metadata": {},
     "output_type": "display_data"
    }
   ],
   "source": [
    "from botocore.response import StreamingBody\n",
    "\n",
    "\n",
    "def read_text_object_from_s3(bucket_name: str, object_key: str, verbose: bool = False) -> str | None:\n",
    "    \"\"\"\n",
    "    Read the content of an object from an S3 bucket.\n",
    "\n",
    "    :param bucket_name: Name of the bucket to read from\n",
    "    :param object_key: Key of the object to read\n",
    "    :return: Content of the object\n",
    "    \"\"\"\n",
    "    response = S3_CLIENT.get_object(Bucket=bucket_name, Key=object_key)\n",
    "\n",
    "    # Note, we need to read the bytestream from the blob and choose how we wish\n",
    "    # to interpret the bytes. In this case, we interpret them as utf-8 encoded text.\n",
    "    content_streaming_body: StreamingBody = response[\"Body\"]\n",
    "    content: str = content_streaming_body.read().decode(\"utf-8\")\n",
    "    return content\n",
    "\n",
    "\n",
    "# Read the content of the example object\n",
    "content = read_text_object_from_s3(BUCKET_NAME, EXAMPLE_OBJECT_KEY)\n",
    "if content:\n",
    "    print(f\"Content of object '{EXAMPLE_OBJECT_KEY}':\\n'{content}'\")"
   ]
  },
  {
   "cell_type": "markdown",
   "metadata": {},
   "source": [
    "## Exercise #1 - List objects in the bucket\n",
    "\n",
    "What if there were more than 1,000 objects in the bucket? How would you list all of them?\n",
    "\n",
    "Hints\n",
    "- Look into [\"boto3 paginators\"](https://boto3.amazonaws.com/v1/documentation/api/latest/guide/paginators.html#creating-paginators)\n",
    "- OR Look into the [boto3 \"resource API\"](https://boto3.amazonaws.com/v1/documentation/api/latest/guide/resources.html#resources), a powerful, but potentially less performant, object-oriented way\n",
    "  of interacting with AWS resources via boto3\n",
    "- OR consider using \"Continuation Tokens\" with the `list_objects_v2` method."
   ]
  },
  {
   "cell_type": "code",
   "execution_count": 7,
   "metadata": {},
   "outputs": [
    {
     "data": {
      "text/html": [
       "<pre style=\"white-space:pre;overflow-x:auto;line-height:normal;font-family:Menlo,'DejaVu Sans Mono',consolas,'Courier New',monospace\">Objects in bucket:\n",
       "</pre>\n"
      ],
      "text/plain": [
       "Objects in bucket:\n"
      ]
     },
     "metadata": {},
     "output_type": "display_data"
    },
    {
     "data": {
      "text/html": [
       "<pre style=\"white-space:pre;overflow-x:auto;line-height:normal;font-family:Menlo,'DejaVu Sans Mono',consolas,'Courier New',monospace\"> - example-a/object/file1.txt\n",
       "</pre>\n"
      ],
      "text/plain": [
       " - example-a/object/file1.txt\n"
      ]
     },
     "metadata": {},
     "output_type": "display_data"
    },
    {
     "data": {
      "text/html": [
       "<pre style=\"white-space:pre;overflow-x:auto;line-height:normal;font-family:Menlo,'DejaVu Sans Mono',consolas,'Courier New',monospace\"> - example-a/object/file2.txt\n",
       "</pre>\n"
      ],
      "text/plain": [
       " - example-a/object/file2.txt\n"
      ]
     },
     "metadata": {},
     "output_type": "display_data"
    },
    {
     "data": {
      "text/html": [
       "<pre style=\"white-space:pre;overflow-x:auto;line-height:normal;font-family:Menlo,'DejaVu Sans Mono',consolas,'Courier New',monospace\"> - example-a/object/file3.txt\n",
       "</pre>\n"
      ],
      "text/plain": [
       " - example-a/object/file3.txt\n"
      ]
     },
     "metadata": {},
     "output_type": "display_data"
    },
    {
     "data": {
      "text/html": [
       "<pre style=\"white-space:pre;overflow-x:auto;line-height:normal;font-family:Menlo,'DejaVu Sans Mono',consolas,'Courier New',monospace\"> - example-b/object/file1.txt\n",
       "</pre>\n"
      ],
      "text/plain": [
       " - example-b/object/file1.txt\n"
      ]
     },
     "metadata": {},
     "output_type": "display_data"
    },
    {
     "data": {
      "text/html": [
       "<pre style=\"white-space:pre;overflow-x:auto;line-height:normal;font-family:Menlo,'DejaVu Sans Mono',consolas,'Courier New',monospace\"> - example-b/object/file2.txt\n",
       "</pre>\n"
      ],
      "text/plain": [
       " - example-b/object/file2.txt\n"
      ]
     },
     "metadata": {},
     "output_type": "display_data"
    },
    {
     "data": {
      "text/html": [
       "<pre style=\"white-space:pre;overflow-x:auto;line-height:normal;font-family:Menlo,'DejaVu Sans Mono',consolas,'Courier New',monospace\"> - example-b/object/file3.txt\n",
       "</pre>\n"
      ],
      "text/plain": [
       " - example-b/object/file3.txt\n"
      ]
     },
     "metadata": {},
     "output_type": "display_data"
    },
    {
     "data": {
      "text/html": [
       "<pre style=\"white-space:pre;overflow-x:auto;line-height:normal;font-family:Menlo,'DejaVu Sans Mono',consolas,'Courier New',monospace\"> - example/object/file.txt\n",
       "</pre>\n"
      ],
      "text/plain": [
       " - example/object/file.txt\n"
      ]
     },
     "metadata": {},
     "output_type": "display_data"
    }
   ],
   "source": [
    "try:\n",
    "    from mypy_boto3_s3.type_defs import ListObjectsV2OutputTypeDef\n",
    "except ImportError:\n",
    "    print(\"boto3-stubs[s3] not installed\")\n",
    "\n",
    "\n",
    "def list_all_object_keys_in_bucket(bucket_name: str) -> list[str]:\n",
    "    \"\"\"\n",
    "    List all objects in an S3 bucket.\n",
    "\n",
    "    :param bucket_name: Name of the bucket to list objects from\n",
    "    :return: List of object keys\n",
    "    \"\"\"\n",
    "    # fill this out...\n",
    "    paginator = S3_CLIENT.get_paginator(\"list_objects_v2\")\n",
    "\n",
    "    object_keys = []\n",
    "\n",
    "    for page in paginator.paginate(Bucket=bucket_name):\n",
    "        # Append the keys of the objects to the list\n",
    "        for obj in page.get(\"Contents\", []):\n",
    "            object_keys.append(obj[\"Key\"])\n",
    "\n",
    "    return object_keys\n",
    "\n",
    "\n",
    "# List all objects in the bucket\n",
    "objects = list_all_object_keys_in_bucket(BUCKET_NAME)\n",
    "if objects:\n",
    "    print(\"Objects in bucket:\")\n",
    "    for obj in objects:\n",
    "        print(f\" - {obj}\")"
   ]
  },
  {
   "cell_type": "markdown",
   "metadata": {},
   "source": [
    "## Exercise #2 - Update the object (overwrite with new content)\n",
    "\n",
    "In this exercise, you will update the content of an existing object in the S3 bucket."
   ]
  },
  {
   "cell_type": "code",
   "execution_count": 8,
   "metadata": {},
   "outputs": [
    {
     "data": {
      "text/html": [
       "<pre style=\"white-space:pre;overflow-x:auto;line-height:normal;font-family:Menlo,'DejaVu Sans Mono',consolas,'Courier New',monospace\"><span style=\"font-weight: bold\">{</span>\n",
       "    <span style=\"color: #008000; text-decoration-color: #008000\">'ResponseMetadata'</span>: <span style=\"font-weight: bold\">{</span>\n",
       "        <span style=\"color: #008000; text-decoration-color: #008000\">'RequestId'</span>: <span style=\"color: #008000; text-decoration-color: #008000\">'9421GYNCPDTBMVRX'</span>,\n",
       "        <span style=\"color: #008000; text-decoration-color: #008000\">'HostId'</span>: \n",
       "<span style=\"color: #008000; text-decoration-color: #008000\">'yNcDMOrVROZ4H8V9D5mfL7HwGblH0ltZT9oVUReyyeYCtJRnWNqTqYHy9DaOglglheYt3D14aOujKcV8dXfjTHCNRso8trAFoYG4Dar2aI4='</span>,\n",
       "        <span style=\"color: #008000; text-decoration-color: #008000\">'HTTPStatusCode'</span>: <span style=\"color: #008080; text-decoration-color: #008080; font-weight: bold\">200</span>,\n",
       "        <span style=\"color: #008000; text-decoration-color: #008000\">'HTTPHeaders'</span>: <span style=\"font-weight: bold\">{</span>\n",
       "            <span style=\"color: #008000; text-decoration-color: #008000\">'x-amz-id-2'</span>: \n",
       "<span style=\"color: #008000; text-decoration-color: #008000\">'yNcDMOrVROZ4H8V9D5mfL7HwGblH0ltZT9oVUReyyeYCtJRnWNqTqYHy9DaOglglheYt3D14aOujKcV8dXfjTHCNRso8trAFoYG4Dar2aI4='</span>,\n",
       "            <span style=\"color: #008000; text-decoration-color: #008000\">'x-amz-request-id'</span>: <span style=\"color: #008000; text-decoration-color: #008000\">'9421GYNCPDTBMVRX'</span>,\n",
       "            <span style=\"color: #008000; text-decoration-color: #008000\">'date'</span>: <span style=\"color: #008000; text-decoration-color: #008000\">'Tue, 11 Jun 2024 16:11:38 GMT'</span>,\n",
       "            <span style=\"color: #008000; text-decoration-color: #008000\">'x-amz-server-side-encryption'</span>: <span style=\"color: #008000; text-decoration-color: #008000\">'AES256'</span>,\n",
       "            <span style=\"color: #008000; text-decoration-color: #008000\">'etag'</span>: <span style=\"color: #008000; text-decoration-color: #008000\">'\"c5a01ee632fac2f88da9e0aa5a3d8cdd\"'</span>,\n",
       "            <span style=\"color: #008000; text-decoration-color: #008000\">'server'</span>: <span style=\"color: #008000; text-decoration-color: #008000\">'AmazonS3'</span>,\n",
       "            <span style=\"color: #008000; text-decoration-color: #008000\">'content-length'</span>: <span style=\"color: #008000; text-decoration-color: #008000\">'0'</span>\n",
       "        <span style=\"font-weight: bold\">}</span>,\n",
       "        <span style=\"color: #008000; text-decoration-color: #008000\">'RetryAttempts'</span>: <span style=\"color: #008080; text-decoration-color: #008080; font-weight: bold\">0</span>\n",
       "    <span style=\"font-weight: bold\">}</span>,\n",
       "    <span style=\"color: #008000; text-decoration-color: #008000\">'ETag'</span>: <span style=\"color: #008000; text-decoration-color: #008000\">'\"c5a01ee632fac2f88da9e0aa5a3d8cdd\"'</span>,\n",
       "    <span style=\"color: #008000; text-decoration-color: #008000\">'ServerSideEncryption'</span>: <span style=\"color: #008000; text-decoration-color: #008000\">'AES256'</span>\n",
       "<span style=\"font-weight: bold\">}</span>\n",
       "</pre>\n"
      ],
      "text/plain": [
       "\u001b[1m{\u001b[0m\n",
       "    \u001b[32m'ResponseMetadata'\u001b[0m: \u001b[1m{\u001b[0m\n",
       "        \u001b[32m'RequestId'\u001b[0m: \u001b[32m'9421GYNCPDTBMVRX'\u001b[0m,\n",
       "        \u001b[32m'HostId'\u001b[0m: \n",
       "\u001b[32m'yNcDMOrVROZ4H8V9D5mfL7HwGblH0ltZT9oVUReyyeYCtJRnWNqTqYHy9\u001b[0m\u001b[32mDaOglglheYt3D14aOujKcV8dXfjTHCNRso8trAFoYG4Dar2aI4\u001b[0m\u001b[32m='\u001b[0m,\n",
       "        \u001b[32m'HTTPStatusCode'\u001b[0m: \u001b[1;36m200\u001b[0m,\n",
       "        \u001b[32m'HTTPHeaders'\u001b[0m: \u001b[1m{\u001b[0m\n",
       "            \u001b[32m'x-amz-id-2'\u001b[0m: \n",
       "\u001b[32m'yNcDMOrVROZ4H8V9D5mfL7HwGblH0ltZT9oVUReyyeYCtJRnWNqTqYHy9\u001b[0m\u001b[32mDaOglglheYt3D14aOujKcV8dXfjTHCNRso8trAFoYG4Dar2aI4\u001b[0m\u001b[32m='\u001b[0m,\n",
       "            \u001b[32m'x-amz-request-id'\u001b[0m: \u001b[32m'9421GYNCPDTBMVRX'\u001b[0m,\n",
       "            \u001b[32m'date'\u001b[0m: \u001b[32m'Tue, 11 Jun 2024 16:11:38 GMT'\u001b[0m,\n",
       "            \u001b[32m'x-amz-server-side-encryption'\u001b[0m: \u001b[32m'AES256'\u001b[0m,\n",
       "            \u001b[32m'etag'\u001b[0m: \u001b[32m'\"c5a01ee632fac2f88da9e0aa5a3d8cdd\"'\u001b[0m,\n",
       "            \u001b[32m'server'\u001b[0m: \u001b[32m'AmazonS3'\u001b[0m,\n",
       "            \u001b[32m'content-length'\u001b[0m: \u001b[32m'0'\u001b[0m\n",
       "        \u001b[1m}\u001b[0m,\n",
       "        \u001b[32m'RetryAttempts'\u001b[0m: \u001b[1;36m0\u001b[0m\n",
       "    \u001b[1m}\u001b[0m,\n",
       "    \u001b[32m'ETag'\u001b[0m: \u001b[32m'\"c5a01ee632fac2f88da9e0aa5a3d8cdd\"'\u001b[0m,\n",
       "    \u001b[32m'ServerSideEncryption'\u001b[0m: \u001b[32m'AES256'\u001b[0m\n",
       "\u001b[1m}\u001b[0m\n"
      ]
     },
     "metadata": {},
     "output_type": "display_data"
    },
    {
     "data": {
      "text/html": [
       "<pre style=\"white-space:pre;overflow-x:auto;line-height:normal;font-family:Menlo,'DejaVu Sans Mono',consolas,'Courier New',monospace\">Content of updated object <span style=\"color: #008000; text-decoration-color: #008000\">'example/object/file.txt'</span>:\n",
       "This is updated content.\n",
       "</pre>\n"
      ],
      "text/plain": [
       "Content of updated object \u001b[32m'example/object/file.txt'\u001b[0m:\n",
       "This is updated content.\n"
      ]
     },
     "metadata": {},
     "output_type": "display_data"
    }
   ],
   "source": [
    "new_content = \"This is updated content.\"\n",
    "\n",
    "# the \"PUT object\" command is an upsert, so it will overwrite existing files\n",
    "response = write_text_object_to_s3(BUCKET_NAME, EXAMPLE_OBJECT_KEY, new_content)\n",
    "print(response)\n",
    "\n",
    "# Read the updated content of the object\n",
    "updated_content = read_text_object_from_s3(BUCKET_NAME, EXAMPLE_OBJECT_KEY)\n",
    "if updated_content:\n",
    "    print(f\"Content of updated object '{EXAMPLE_OBJECT_KEY}':\\n{updated_content}\")"
   ]
  },
  {
   "cell_type": "markdown",
   "metadata": {},
   "source": [
    "## Exercise #3 - Delete the object from the bucket\n",
    "\n",
    "In this exercise, you will delete an object from the S3 bucket."
   ]
  },
  {
   "cell_type": "code",
   "execution_count": 9,
   "metadata": {},
   "outputs": [
    {
     "data": {
      "text/html": [
       "<pre style=\"white-space:pre;overflow-x:auto;line-height:normal;font-family:Menlo,'DejaVu Sans Mono',consolas,'Courier New',monospace\"><span style=\"font-weight: bold\">{</span>\n",
       "    <span style=\"color: #008000; text-decoration-color: #008000\">'ResponseMetadata'</span>: <span style=\"font-weight: bold\">{</span>\n",
       "        <span style=\"color: #008000; text-decoration-color: #008000\">'RequestId'</span>: <span style=\"color: #008000; text-decoration-color: #008000\">'6K5K577V1PSJCV23'</span>,\n",
       "        <span style=\"color: #008000; text-decoration-color: #008000\">'HostId'</span>: <span style=\"color: #008000; text-decoration-color: #008000\">'MN1FkaJ6yeee0KPQT1wUEeIFknh8cYhTJssEM+yqDwMOsgU9gXIF6OCXkyhBRnCHxV06nFibysI='</span>,\n",
       "        <span style=\"color: #008000; text-decoration-color: #008000\">'HTTPStatusCode'</span>: <span style=\"color: #008080; text-decoration-color: #008080; font-weight: bold\">204</span>,\n",
       "        <span style=\"color: #008000; text-decoration-color: #008000\">'HTTPHeaders'</span>: <span style=\"font-weight: bold\">{</span>\n",
       "            <span style=\"color: #008000; text-decoration-color: #008000\">'x-amz-id-2'</span>: <span style=\"color: #008000; text-decoration-color: #008000\">'MN1FkaJ6yeee0KPQT1wUEeIFknh8cYhTJssEM+yqDwMOsgU9gXIF6OCXkyhBRnCHxV06nFibysI='</span>,\n",
       "            <span style=\"color: #008000; text-decoration-color: #008000\">'x-amz-request-id'</span>: <span style=\"color: #008000; text-decoration-color: #008000\">'6K5K577V1PSJCV23'</span>,\n",
       "            <span style=\"color: #008000; text-decoration-color: #008000\">'date'</span>: <span style=\"color: #008000; text-decoration-color: #008000\">'Tue, 11 Jun 2024 16:16:21 GMT'</span>,\n",
       "            <span style=\"color: #008000; text-decoration-color: #008000\">'server'</span>: <span style=\"color: #008000; text-decoration-color: #008000\">'AmazonS3'</span>\n",
       "        <span style=\"font-weight: bold\">}</span>,\n",
       "        <span style=\"color: #008000; text-decoration-color: #008000\">'RetryAttempts'</span>: <span style=\"color: #008080; text-decoration-color: #008080; font-weight: bold\">0</span>\n",
       "    <span style=\"font-weight: bold\">}</span>\n",
       "<span style=\"font-weight: bold\">}</span>\n",
       "</pre>\n"
      ],
      "text/plain": [
       "\u001b[1m{\u001b[0m\n",
       "    \u001b[32m'ResponseMetadata'\u001b[0m: \u001b[1m{\u001b[0m\n",
       "        \u001b[32m'RequestId'\u001b[0m: \u001b[32m'6K5K577V1PSJCV23'\u001b[0m,\n",
       "        \u001b[32m'HostId'\u001b[0m: \u001b[32m'MN1FkaJ6yeee0KPQT1wUEeIFknh8cYhTJssEM+\u001b[0m\u001b[32myqDwMOsgU9gXIF6OCXkyhBRnCHxV06nFibysI\u001b[0m\u001b[32m='\u001b[0m,\n",
       "        \u001b[32m'HTTPStatusCode'\u001b[0m: \u001b[1;36m204\u001b[0m,\n",
       "        \u001b[32m'HTTPHeaders'\u001b[0m: \u001b[1m{\u001b[0m\n",
       "            \u001b[32m'x-amz-id-2'\u001b[0m: \u001b[32m'MN1FkaJ6yeee0KPQT1wUEeIFknh8cYhTJssEM+\u001b[0m\u001b[32myqDwMOsgU9gXIF6OCXkyhBRnCHxV06nFibysI\u001b[0m\u001b[32m='\u001b[0m,\n",
       "            \u001b[32m'x-amz-request-id'\u001b[0m: \u001b[32m'6K5K577V1PSJCV23'\u001b[0m,\n",
       "            \u001b[32m'date'\u001b[0m: \u001b[32m'Tue, 11 Jun 2024 16:16:21 GMT'\u001b[0m,\n",
       "            \u001b[32m'server'\u001b[0m: \u001b[32m'AmazonS3'\u001b[0m\n",
       "        \u001b[1m}\u001b[0m,\n",
       "        \u001b[32m'RetryAttempts'\u001b[0m: \u001b[1;36m0\u001b[0m\n",
       "    \u001b[1m}\u001b[0m\n",
       "\u001b[1m}\u001b[0m\n"
      ]
     },
     "metadata": {},
     "output_type": "display_data"
    }
   ],
   "source": [
    "try:\n",
    "    from mypy_boto3_s3.type_defs import DeleteObjectOutputTypeDef\n",
    "except ImportError:\n",
    "    print(\"boto3-stubs[s3] not installed\")\n",
    "\n",
    "\n",
    "def delete_object_from_s3(\n",
    "    bucket_name: str,\n",
    "    object_key: str,\n",
    ") -> Optional[\"DeleteObjectOutputTypeDef\"]:\n",
    "    \"\"\"\n",
    "    Delete an object from an S3 bucket.\n",
    "\n",
    "    :param bucket_name: Name of the bucket to delete the object from\n",
    "    :param object_key: Key of the object to delete\n",
    "    :return: Response from the delete_object call\n",
    "    \"\"\"\n",
    "    # fill this out...\n",
    "    response = S3_CLIENT.delete_object(Bucket=bucket_name, Key=object_key)\n",
    "    return response\n",
    "\n",
    "\n",
    "# Delete the example object\n",
    "response = delete_object_from_s3(bucket_name=BUCKET_NAME, object_key=EXAMPLE_OBJECT_KEY)\n",
    "print(response)"
   ]
  },
  {
   "cell_type": "markdown",
   "metadata": {},
   "source": [
    "## Exercise #4 - Try to read a non-existent object\n",
    "\n",
    "In this exercise, you will attempt to read a non-existent object from the S3 bucket. \n",
    "\n",
    "Catch, suppress, and print the `ClientError` exception that is raised when you try to read a non-existent object."
   ]
  },
  {
   "cell_type": "code",
   "execution_count": 10,
   "metadata": {},
   "outputs": [
    {
     "data": {
      "text/html": [
       "<pre style=\"white-space:pre;overflow-x:auto;line-height:normal;font-family:Menlo,'DejaVu Sans Mono',consolas,'Courier New',monospace\">Trying to read the deleted object at <span style=\"color: #008000; text-decoration-color: #008000\">'s3://cloud-course-bucket-4135/example/object/file.txt'</span> <span style=\"color: #808000; text-decoration-color: #808000\">...</span>\n",
       "</pre>\n"
      ],
      "text/plain": [
       "Trying to read the deleted object at \u001b[32m's3://cloud-course-bucket-4135/example/object/file.txt'\u001b[0m \u001b[33m...\u001b[0m\n"
      ]
     },
     "metadata": {},
     "output_type": "display_data"
    }
   ],
   "source": [
    "print(f\"Trying to read the deleted object at 's3://{BUCKET_NAME}/{EXAMPLE_OBJECT_KEY}' ...\")\n",
    "\n",
    "delete_object_from_s3(bucket_name=BUCKET_NAME, object_key=EXAMPLE_OBJECT_KEY)\n",
    "\n",
    "try:\n",
    "    # try to read the deleted object\n",
    "    read_text_object_from_s3(BUCKET_NAME, EXAMPLE_OBJECT_KEY)\n",
    "except ClientError as err:\n",
    "    assert \"NoSuchKey\" in str(err)"
   ]
  },
  {
   "cell_type": "markdown",
   "metadata": {},
   "source": [
    "## Exercise #5 - Try to delete a non-existent object\n",
    "\n",
    "**Note:** the result of calling `s3_client.delete_object` on a non-existent object is not what you might expect. It succeeds whether or not there exists an object with the given key.\n",
    "\n",
    "**Note:** The HTTP status code `204` means `No Content`. Or in other words, the request is successful\n",
    "but there was nothing to delete."
   ]
  },
  {
   "cell_type": "code",
   "execution_count": 13,
   "metadata": {},
   "outputs": [
    {
     "data": {
      "text/html": [
       "<pre style=\"white-space:pre;overflow-x:auto;line-height:normal;font-family:Menlo,'DejaVu Sans Mono',consolas,'Courier New',monospace\"><span style=\"font-weight: bold\">{</span>\n",
       "    <span style=\"color: #008000; text-decoration-color: #008000\">'ResponseMetadata'</span>: <span style=\"font-weight: bold\">{</span>\n",
       "        <span style=\"color: #008000; text-decoration-color: #008000\">'RequestId'</span>: <span style=\"color: #008000; text-decoration-color: #008000\">'NQBVCD0ZTKWFHWNZ'</span>,\n",
       "        <span style=\"color: #008000; text-decoration-color: #008000\">'HostId'</span>: <span style=\"color: #008000; text-decoration-color: #008000\">'UZJRxUWJP6vfT/6ZDI61asMLw261ZtPUsAD+HGLb8qGsF3ys4pECd4U/L3sctOUZ/HG+C6EDSLoLtf90apKy7g=='</span>,\n",
       "        <span style=\"color: #008000; text-decoration-color: #008000\">'HTTPStatusCode'</span>: <span style=\"color: #008080; text-decoration-color: #008080; font-weight: bold\">204</span>,\n",
       "        <span style=\"color: #008000; text-decoration-color: #008000\">'HTTPHeaders'</span>: <span style=\"font-weight: bold\">{</span>\n",
       "            <span style=\"color: #008000; text-decoration-color: #008000\">'x-amz-id-2'</span>: \n",
       "<span style=\"color: #008000; text-decoration-color: #008000\">'UZJRxUWJP6vfT/6ZDI61asMLw261ZtPUsAD+HGLb8qGsF3ys4pECd4U/L3sctOUZ/HG+C6EDSLoLtf90apKy7g=='</span>,\n",
       "            <span style=\"color: #008000; text-decoration-color: #008000\">'x-amz-request-id'</span>: <span style=\"color: #008000; text-decoration-color: #008000\">'NQBVCD0ZTKWFHWNZ'</span>,\n",
       "            <span style=\"color: #008000; text-decoration-color: #008000\">'date'</span>: <span style=\"color: #008000; text-decoration-color: #008000\">'Tue, 11 Jun 2024 16:20:27 GMT'</span>,\n",
       "            <span style=\"color: #008000; text-decoration-color: #008000\">'server'</span>: <span style=\"color: #008000; text-decoration-color: #008000\">'AmazonS3'</span>\n",
       "        <span style=\"font-weight: bold\">}</span>,\n",
       "        <span style=\"color: #008000; text-decoration-color: #008000\">'RetryAttempts'</span>: <span style=\"color: #008080; text-decoration-color: #008080; font-weight: bold\">0</span>\n",
       "    <span style=\"font-weight: bold\">}</span>\n",
       "<span style=\"font-weight: bold\">}</span>\n",
       "</pre>\n"
      ],
      "text/plain": [
       "\u001b[1m{\u001b[0m\n",
       "    \u001b[32m'ResponseMetadata'\u001b[0m: \u001b[1m{\u001b[0m\n",
       "        \u001b[32m'RequestId'\u001b[0m: \u001b[32m'NQBVCD0ZTKWFHWNZ'\u001b[0m,\n",
       "        \u001b[32m'HostId'\u001b[0m: \u001b[32m'UZJRxUWJP6vfT/6ZDI61asMLw261ZtPUsAD+HGLb8qGsF3ys4pECd4U/L3sctOUZ/HG+\u001b[0m\u001b[32mC6EDSLoLtf90apKy7g\u001b[0m\u001b[32m=='\u001b[0m,\n",
       "        \u001b[32m'HTTPStatusCode'\u001b[0m: \u001b[1;36m204\u001b[0m,\n",
       "        \u001b[32m'HTTPHeaders'\u001b[0m: \u001b[1m{\u001b[0m\n",
       "            \u001b[32m'x-amz-id-2'\u001b[0m: \n",
       "\u001b[32m'UZJRxUWJP6vfT/6ZDI61asMLw261ZtPUsAD+HGLb8qGsF3ys4pECd4U/L3sctOUZ/HG+\u001b[0m\u001b[32mC6EDSLoLtf90apKy7g\u001b[0m\u001b[32m=='\u001b[0m,\n",
       "            \u001b[32m'x-amz-request-id'\u001b[0m: \u001b[32m'NQBVCD0ZTKWFHWNZ'\u001b[0m,\n",
       "            \u001b[32m'date'\u001b[0m: \u001b[32m'Tue, 11 Jun 2024 16:20:27 GMT'\u001b[0m,\n",
       "            \u001b[32m'server'\u001b[0m: \u001b[32m'AmazonS3'\u001b[0m\n",
       "        \u001b[1m}\u001b[0m,\n",
       "        \u001b[32m'RetryAttempts'\u001b[0m: \u001b[1;36m0\u001b[0m\n",
       "    \u001b[1m}\u001b[0m\n",
       "\u001b[1m}\u001b[0m\n"
      ]
     },
     "metadata": {},
     "output_type": "display_data"
    }
   ],
   "source": [
    "non_existant_object_key = EXAMPLE_OBJECT_KEY + \"_non_existent\"\n",
    "\n",
    "# delete the non-existent object\n",
    "response = delete_object_from_s3(bucket_name=BUCKET_NAME, object_key=non_existant_object_key)\n",
    "\n",
    "print(response)"
   ]
  },
  {
   "cell_type": "markdown",
   "metadata": {},
   "source": [
    "## Exercise #6 - Error handling when deleting an object\n",
    "\n",
    "In this exercise, you will implement error handling to raise a `FileNotFoundError` if you try to delete a non-existent object, i.e., one that has already been deleted or was never written.\n",
    "\n",
    "Hint, the `s3_client.head_object(...)` method raises an error with status code `404 - File Not Found`\n",
    "if no file exists for the given object key."
   ]
  },
  {
   "cell_type": "code",
   "execution_count": 15,
   "metadata": {},
   "outputs": [
    {
     "data": {
      "text/html": [
       "<pre style=\"white-space:pre;overflow-x:auto;line-height:normal;font-family:Menlo,'DejaVu Sans Mono',consolas,'Courier New',monospace\">The object example/object/file.txt does not exist in bucket cloud-course-bucket-<span style=\"color: #008080; text-decoration-color: #008080; font-weight: bold\">4135</span>.\n",
       "</pre>\n"
      ],
      "text/plain": [
       "The object example/object/file.txt does not exist in bucket cloud-course-bucket-\u001b[1;36m4135\u001b[0m.\n"
      ]
     },
     "metadata": {},
     "output_type": "display_data"
    }
   ],
   "source": [
    "HTTP_FILE_NOT_FOUND_ERROR_CODE = \"404\"\n",
    "\n",
    "\n",
    "class S3FileNotFoundError(Exception):\n",
    "    \"\"\"Raise this exception when an object at a given path is not found in S3.\"\"\"\n",
    "\n",
    "\n",
    "def delete_object_or_error_if_not_exists(bucket_name: str, object_key: str) -> None:\n",
    "    \"\"\"\n",
    "    Delete an object from an S3 bucket with error handling for non-existent objects.\n",
    "\n",
    "    :param bucket_name: Name of the bucket to delete the object from\n",
    "    :param object_key: Key of the object to delete\n",
    "\n",
    "    :raises S3FileNotFoundError: if no object exists at the given path\n",
    "    :raises ClientError: if an unexpected error occurs when using S3 that is not due to file not found\n",
    "    \"\"\"\n",
    "    # fill this out...\n",
    "    try:\n",
    "        S3_CLIENT.head_object(Bucket=bucket_name, Key=object_key)\n",
    "        S3_CLIENT.delete_object(Bucket=bucket_name, Key=object_key)\n",
    "\n",
    "    except ClientError as err:\n",
    "        err_is_due_to_file_not_found = err.response[\"Error\"][\"Code\"] == HTTP_FILE_NOT_FOUND_ERROR_CODE\n",
    "        if err_is_due_to_file_not_found:\n",
    "            raise S3FileNotFoundError(f\"The object {object_key} does not exist in bucket {bucket_name}.\")\n",
    "        else:\n",
    "            raise\n",
    "\n",
    "\n",
    "# Try to delete the non-existent example object with error handling\n",
    "try:\n",
    "    delete_object_or_error_if_not_exists(BUCKET_NAME, EXAMPLE_OBJECT_KEY)\n",
    "except S3FileNotFoundError as err:\n",
    "    print(err)"
   ]
  },
  {
   "cell_type": "markdown",
   "metadata": {},
   "source": [
    "## Exercise #7 - List objects in the bucket to confirm they were deleted in the previous exercises\n",
    "\n",
    "In this exercise, you will list all objects in the S3 bucket to confirm that the object has been deleted."
   ]
  },
  {
   "cell_type": "code",
   "execution_count": 16,
   "metadata": {},
   "outputs": [
    {
     "data": {
      "text/html": [
       "<pre style=\"white-space:pre;overflow-x:auto;line-height:normal;font-family:Menlo,'DejaVu Sans Mono',consolas,'Courier New',monospace\">Objects in bucket:\n",
       "</pre>\n"
      ],
      "text/plain": [
       "Objects in bucket:\n"
      ]
     },
     "metadata": {},
     "output_type": "display_data"
    },
    {
     "data": {
      "text/html": [
       "<pre style=\"white-space:pre;overflow-x:auto;line-height:normal;font-family:Menlo,'DejaVu Sans Mono',consolas,'Courier New',monospace\"> - example-a/object/file1.txt\n",
       "</pre>\n"
      ],
      "text/plain": [
       " - example-a/object/file1.txt\n"
      ]
     },
     "metadata": {},
     "output_type": "display_data"
    },
    {
     "data": {
      "text/html": [
       "<pre style=\"white-space:pre;overflow-x:auto;line-height:normal;font-family:Menlo,'DejaVu Sans Mono',consolas,'Courier New',monospace\"> - example-a/object/file2.txt\n",
       "</pre>\n"
      ],
      "text/plain": [
       " - example-a/object/file2.txt\n"
      ]
     },
     "metadata": {},
     "output_type": "display_data"
    },
    {
     "data": {
      "text/html": [
       "<pre style=\"white-space:pre;overflow-x:auto;line-height:normal;font-family:Menlo,'DejaVu Sans Mono',consolas,'Courier New',monospace\"> - example-a/object/file3.txt\n",
       "</pre>\n"
      ],
      "text/plain": [
       " - example-a/object/file3.txt\n"
      ]
     },
     "metadata": {},
     "output_type": "display_data"
    },
    {
     "data": {
      "text/html": [
       "<pre style=\"white-space:pre;overflow-x:auto;line-height:normal;font-family:Menlo,'DejaVu Sans Mono',consolas,'Courier New',monospace\"> - example-b/object/file1.txt\n",
       "</pre>\n"
      ],
      "text/plain": [
       " - example-b/object/file1.txt\n"
      ]
     },
     "metadata": {},
     "output_type": "display_data"
    },
    {
     "data": {
      "text/html": [
       "<pre style=\"white-space:pre;overflow-x:auto;line-height:normal;font-family:Menlo,'DejaVu Sans Mono',consolas,'Courier New',monospace\"> - example-b/object/file2.txt\n",
       "</pre>\n"
      ],
      "text/plain": [
       " - example-b/object/file2.txt\n"
      ]
     },
     "metadata": {},
     "output_type": "display_data"
    },
    {
     "data": {
      "text/html": [
       "<pre style=\"white-space:pre;overflow-x:auto;line-height:normal;font-family:Menlo,'DejaVu Sans Mono',consolas,'Courier New',monospace\"> - example-b/object/file3.txt\n",
       "</pre>\n"
      ],
      "text/plain": [
       " - example-b/object/file3.txt\n"
      ]
     },
     "metadata": {},
     "output_type": "display_data"
    }
   ],
   "source": [
    "# List all objects in the bucket\n",
    "objects = list_all_object_keys_in_bucket(BUCKET_NAME)\n",
    "\n",
    "if objects:\n",
    "    print(\"Objects in bucket:\")\n",
    "    for obj in objects:\n",
    "        print(f\" - {obj}\")\n",
    "else:\n",
    "    print(\"Bucket is empty.\")"
   ]
  },
  {
   "cell_type": "markdown",
   "metadata": {},
   "source": [
    "## Exercise 8 - List objects by prefix\n",
    "\n",
    "In this exercise, you will list objects in the S3 bucket by prefix."
   ]
  },
  {
   "cell_type": "code",
   "execution_count": 17,
   "metadata": {},
   "outputs": [
    {
     "data": {
      "text/html": [
       "<pre style=\"white-space:pre;overflow-x:auto;line-height:normal;font-family:Menlo,'DejaVu Sans Mono',consolas,'Courier New',monospace\">Objects with prefix <span style=\"color: #008000; text-decoration-color: #008000\">'example-a/'</span>:\n",
       "</pre>\n"
      ],
      "text/plain": [
       "Objects with prefix \u001b[32m'example-a/'\u001b[0m:\n"
      ]
     },
     "metadata": {},
     "output_type": "display_data"
    },
    {
     "data": {
      "text/html": [
       "<pre style=\"white-space:pre;overflow-x:auto;line-height:normal;font-family:Menlo,'DejaVu Sans Mono',consolas,'Courier New',monospace\"> - example-a/object/file1.txt\n",
       "</pre>\n"
      ],
      "text/plain": [
       " - example-a/object/file1.txt\n"
      ]
     },
     "metadata": {},
     "output_type": "display_data"
    },
    {
     "data": {
      "text/html": [
       "<pre style=\"white-space:pre;overflow-x:auto;line-height:normal;font-family:Menlo,'DejaVu Sans Mono',consolas,'Courier New',monospace\"> - example-a/object/file2.txt\n",
       "</pre>\n"
      ],
      "text/plain": [
       " - example-a/object/file2.txt\n"
      ]
     },
     "metadata": {},
     "output_type": "display_data"
    },
    {
     "data": {
      "text/html": [
       "<pre style=\"white-space:pre;overflow-x:auto;line-height:normal;font-family:Menlo,'DejaVu Sans Mono',consolas,'Courier New',monospace\"> - example-a/object/file3.txt\n",
       "</pre>\n"
      ],
      "text/plain": [
       " - example-a/object/file3.txt\n"
      ]
     },
     "metadata": {},
     "output_type": "display_data"
    }
   ],
   "source": [
    "def list_all_objects_in_bucket_by_prefix(bucket_name: str, prefix: str) -> list[str]:\n",
    "    \"\"\"\n",
    "    List objects in an S3 bucket by prefix.\n",
    "\n",
    "    :param bucket_name: Name of the bucket to list objects from\n",
    "    :param prefix: Prefix to filter objects by\n",
    "    :return: List of object keys\n",
    "    \"\"\"\n",
    "    # fill this out...\n",
    "\n",
    "    paginator = S3_CLIENT.get_paginator(\"list_objects_v2\")\n",
    "\n",
    "    object_keys = []\n",
    "\n",
    "    for page in paginator.paginate(Bucket=bucket_name, Prefix=prefix):\n",
    "        # Append the keys of the objects to the list\n",
    "        for obj in page.get(\"Contents\", []):\n",
    "            object_keys.append(obj[\"Key\"])\n",
    "\n",
    "    return object_keys\n",
    "\n",
    "\n",
    "# List objects by prefix\n",
    "prefix = \"example-a/\"\n",
    "objects_by_prefix = list_all_objects_in_bucket_by_prefix(BUCKET_NAME, prefix)\n",
    "if objects_by_prefix:\n",
    "    print(f\"Objects with prefix '{prefix}':\")\n",
    "    for obj in objects_by_prefix:\n",
    "        print(f\" - {obj}\")\n",
    "else:\n",
    "    print(f\"No objects found with prefix '{prefix}'.\")"
   ]
  },
  {
   "cell_type": "markdown",
   "metadata": {},
   "source": [
    "## Exercise 9 - Delete a bucket, no matter what!\n",
    "\n",
    "In this exercise, you will delete the S3 bucket. Your bucket may have objects in it. Does that matter?\n",
    "\n",
    "Write a function to delete your bucket. \n",
    "\n",
    "***Be careful to point it at the right bucket using the right\n",
    "AWS credentials--or you might delete the wrong bucket!***"
   ]
  },
  {
   "cell_type": "code",
   "execution_count": 18,
   "metadata": {},
   "outputs": [
    {
     "data": {
      "text/html": [
       "<pre style=\"white-space:pre;overflow-x:auto;line-height:normal;font-family:Menlo,'DejaVu Sans Mono',consolas,'Courier New',monospace\">Bucket cloud-course-bucket-<span style=\"color: #008080; text-decoration-color: #008080; font-weight: bold\">4135</span> and all its contents have been deleted.\n",
       "</pre>\n"
      ],
      "text/plain": [
       "Bucket cloud-course-bucket-\u001b[1;36m4135\u001b[0m and all its contents have been deleted.\n"
      ]
     },
     "metadata": {},
     "output_type": "display_data"
    },
    {
     "data": {
      "text/html": [
       "<pre style=\"white-space:pre;overflow-x:auto;line-height:normal;font-family:Menlo,'DejaVu Sans Mono',consolas,'Courier New',monospace\"><span style=\"font-weight: bold\">{</span>\n",
       "    <span style=\"color: #008000; text-decoration-color: #008000\">'ResponseMetadata'</span>: <span style=\"font-weight: bold\">{</span>\n",
       "        <span style=\"color: #008000; text-decoration-color: #008000\">'RequestId'</span>: <span style=\"color: #008000; text-decoration-color: #008000\">'YE61SR9QF85PRTJ2'</span>,\n",
       "        <span style=\"color: #008000; text-decoration-color: #008000\">'HostId'</span>: <span style=\"color: #008000; text-decoration-color: #008000\">'aaUslosuVmYz/LzpdFadnTn1+uzsn9yJgcOW9aLmy6l6BI96IH2jiQdEGhkfZIETFPOTZFz74Lg='</span>,\n",
       "        <span style=\"color: #008000; text-decoration-color: #008000\">'HTTPStatusCode'</span>: <span style=\"color: #008080; text-decoration-color: #008080; font-weight: bold\">204</span>,\n",
       "        <span style=\"color: #008000; text-decoration-color: #008000\">'HTTPHeaders'</span>: <span style=\"font-weight: bold\">{</span>\n",
       "            <span style=\"color: #008000; text-decoration-color: #008000\">'x-amz-id-2'</span>: <span style=\"color: #008000; text-decoration-color: #008000\">'aaUslosuVmYz/LzpdFadnTn1+uzsn9yJgcOW9aLmy6l6BI96IH2jiQdEGhkfZIETFPOTZFz74Lg='</span>,\n",
       "            <span style=\"color: #008000; text-decoration-color: #008000\">'x-amz-request-id'</span>: <span style=\"color: #008000; text-decoration-color: #008000\">'YE61SR9QF85PRTJ2'</span>,\n",
       "            <span style=\"color: #008000; text-decoration-color: #008000\">'date'</span>: <span style=\"color: #008000; text-decoration-color: #008000\">'Tue, 11 Jun 2024 17:04:51 GMT'</span>,\n",
       "            <span style=\"color: #008000; text-decoration-color: #008000\">'server'</span>: <span style=\"color: #008000; text-decoration-color: #008000\">'AmazonS3'</span>\n",
       "        <span style=\"font-weight: bold\">}</span>,\n",
       "        <span style=\"color: #008000; text-decoration-color: #008000\">'RetryAttempts'</span>: <span style=\"color: #008080; text-decoration-color: #008080; font-weight: bold\">0</span>\n",
       "    <span style=\"font-weight: bold\">}</span>\n",
       "<span style=\"font-weight: bold\">}</span>\n",
       "</pre>\n"
      ],
      "text/plain": [
       "\u001b[1m{\u001b[0m\n",
       "    \u001b[32m'ResponseMetadata'\u001b[0m: \u001b[1m{\u001b[0m\n",
       "        \u001b[32m'RequestId'\u001b[0m: \u001b[32m'YE61SR9QF85PRTJ2'\u001b[0m,\n",
       "        \u001b[32m'HostId'\u001b[0m: \u001b[32m'aaUslosuVmYz/LzpdFadnTn1+\u001b[0m\u001b[32muzsn9yJgcOW9aLmy6l6BI96IH2jiQdEGhkfZIETFPOTZFz74Lg\u001b[0m\u001b[32m='\u001b[0m,\n",
       "        \u001b[32m'HTTPStatusCode'\u001b[0m: \u001b[1;36m204\u001b[0m,\n",
       "        \u001b[32m'HTTPHeaders'\u001b[0m: \u001b[1m{\u001b[0m\n",
       "            \u001b[32m'x-amz-id-2'\u001b[0m: \u001b[32m'aaUslosuVmYz/LzpdFadnTn1+\u001b[0m\u001b[32muzsn9yJgcOW9aLmy6l6BI96IH2jiQdEGhkfZIETFPOTZFz74Lg\u001b[0m\u001b[32m='\u001b[0m,\n",
       "            \u001b[32m'x-amz-request-id'\u001b[0m: \u001b[32m'YE61SR9QF85PRTJ2'\u001b[0m,\n",
       "            \u001b[32m'date'\u001b[0m: \u001b[32m'Tue, 11 Jun 2024 17:04:51 GMT'\u001b[0m,\n",
       "            \u001b[32m'server'\u001b[0m: \u001b[32m'AmazonS3'\u001b[0m\n",
       "        \u001b[1m}\u001b[0m,\n",
       "        \u001b[32m'RetryAttempts'\u001b[0m: \u001b[1;36m0\u001b[0m\n",
       "    \u001b[1m}\u001b[0m\n",
       "\u001b[1m}\u001b[0m\n"
      ]
     },
     "metadata": {},
     "output_type": "display_data"
    }
   ],
   "source": [
    "import boto3\n",
    "from botocore.exceptions import ClientError\n",
    "\n",
    "try:\n",
    "    from mypy_boto3_s3.type_defs import EmptyResponseMetadataTypeDef\n",
    "except ImportError:\n",
    "    print(\"boto3-stubs[s3] not installed\")\n",
    "\n",
    "\n",
    "def delete_bucket(bucket_name: str) -> Optional[\"EmptyResponseMetadataTypeDef\"]:\n",
    "    \"\"\"\n",
    "    Delete an S3 bucket, including all its objects.\n",
    "\n",
    "    If the bucket does not exist, no error is raised.\n",
    "\n",
    "    :param bucket_name: Name of the bucket to delete\n",
    "    :return: Response from the delete_bucket call or None if there is no bucket.\n",
    "    \"\"\"\n",
    "    # Check if Bucket exists\n",
    "    try:\n",
    "        S3_CLIENT.head_bucket(Bucket=bucket_name)\n",
    "    except ClientError as err:\n",
    "        error_code = err.response[\"Error\"][\"Code\"]\n",
    "        if error_code == \"404\":\n",
    "            print(\"Bucket does not exist\")\n",
    "            return None\n",
    "        else:\n",
    "            raise\n",
    "    # Delete Objects first\n",
    "    object_keys = list_all_object_keys_in_bucket(bucket_name=bucket_name)\n",
    "    for object_key in object_keys:\n",
    "        S3_CLIENT.delete_object(Bucket=bucket_name, Key=object_key)\n",
    "\n",
    "    # Delete Bucket\n",
    "    try:\n",
    "        response = S3_CLIENT.delete_bucket(Bucket=bucket_name)\n",
    "        print(f\"Bucket {bucket_name} and all its contents have been deleted.\")\n",
    "        return response\n",
    "    except ClientError as e:\n",
    "        print(f\"Error deleting bucket {bucket_name}: {e}\")\n",
    "        raise\n",
    "\n",
    "\n",
    "response = delete_bucket(BUCKET_NAME)\n",
    "print(response)"
   ]
  },
  {
   "cell_type": "markdown",
   "metadata": {},
   "source": [
    "## (Optional) Bonus Exercise #1 - Recursively upload a local directory to S3"
   ]
  },
  {
   "cell_type": "code",
   "execution_count": null,
   "metadata": {},
   "outputs": [],
   "source": [
    "from pathlib import Path\n",
    "from typing import Generator\n",
    "\n",
    "\n",
    "def recursively_upload_dir_to_bucket(\n",
    "    local_dir_fpath: str | Path,\n",
    "    bucket_name: str,\n",
    "    target_root_prefix_in_bucket: str = \"\",\n",
    "):\n",
    "    \"\"\"\n",
    "    Recurse through a local directory and upload all files to S3 under a target prefix.\n",
    "\n",
    "    The object keys within the bucket should be the relative paths of the files within the local directory.\n",
    "\n",
    "    Example:\n",
    "\n",
    "    path/to/local_dir/\n",
    "    ├── file1.txt\n",
    "    ├── file2.txt\n",
    "    └── subdir\n",
    "        └── file3.txt\n",
    "\n",
    "    Would be uploaded to\n",
    "\n",
    "    s3://bucket-name/target_root_prefix_in_bucket/\n",
    "    ├── file1.txt\n",
    "    ├── file2.txt\n",
    "    └── subdir/\n",
    "        └── file3.txt\n",
    "    \"\"\"\n",
    "    # fill this out...\n",
    "\n",
    "\n",
    "# create a test dir locally with sample files\n",
    "test_dir = Path(\"test_dir\")\n",
    "test_dir.mkdir(parents=True, exist_ok=True)\n",
    "(test_dir / \"file1.txt\").write_text(\"This is file 1.\")\n",
    "(test_dir / \"file2.txt\").write_text(\"This is file 2.\")\n",
    "(test_dir / \"subdir\").mkdir(parents=True, exist_ok=True)\n",
    "(test_dir / \"subdir\" / \"file3.txt\").write_text(\"This is file 3.\")\n",
    "\n",
    "# clean up the bucket\n",
    "delete_bucket(BUCKET_NAME)\n",
    "create_bucket(bucket_name=BUCKET_NAME)\n",
    "\n",
    "recursively_upload_dir_to_bucket(\n",
    "    bucket_name=BUCKET_NAME,\n",
    "    local_dir_fpath=test_dir,\n",
    "    target_root_prefix_in_bucket=\"test-root-dir/\",\n",
    ")\n",
    "\n",
    "# List all objects in the bucket at the test target root\n",
    "objects = list_all_objects_in_bucket_by_prefix(\n",
    "    bucket_name=BUCKET_NAME,\n",
    "    prefix=\"test-root-dir/\",\n",
    ")\n",
    "print(objects)"
   ]
  },
  {
   "cell_type": "markdown",
   "metadata": {},
   "source": [
    "## (Optional) Bonus Exercise #2 - Rename a \"folder\" in an S3 bucket\n",
    "\n",
    "S3 is a key-value store for blobs of bytes. There is no way to \"rename\" a \"folder\" in S3\n",
    "without changing the key names of each object in the \"folder\".\n",
    "\n",
    "To really feel the weight and implications of this fact, go through this exercise 🤣\n",
    "\n",
    "Ultimately, you have to copy each object one at a time, and delete the old object. For large buckets, e.g.\n",
    "data lakes with millions of files, this is a slow process."
   ]
  },
  {
   "cell_type": "code",
   "execution_count": null,
   "metadata": {},
   "outputs": [],
   "source": [
    "def rename_folder_in_bucket(\n",
    "    bucket_name: str,\n",
    "    old_folder_prefix: str,\n",
    "    new_folder_prefix: str,\n",
    "):\n",
    "    \"\"\"\n",
    "    Rename a \"folder\" in an S3 bucket.\n",
    "\n",
    "    Example:\n",
    "\n",
    "    Given the following structure in S3:\n",
    "\n",
    "    s3://bucket-name/<old_folder_prefix>/\n",
    "    ├── file1.txt\n",
    "    ├── file2.txt\n",
    "    └── subdir/\n",
    "        └── file3.txt\n",
    "\n",
    "    After renaming\n",
    "\n",
    "    s3://bucket-name/<new_folder_prefix>/\n",
    "    ├── file1.txt\n",
    "    ├── file2.txt\n",
    "    └── subdir/\n",
    "        └── file3.txt\n",
    "\n",
    "    :param bucket_name: Name of the S3 bucket\n",
    "    :param source_folder: Source \"folder\" path in the bucket\n",
    "    :param destination_folder: Destination \"folder\" path in the bucket\n",
    "    \"\"\"\n",
    "    # fill this out...\n",
    "\n",
    "\n",
    "def move_object_in_bucket(bucket_name: str, source_key: str, destination_key: str):\n",
    "    \"\"\"\n",
    "    Move an object within an S3 bucket by copying to the new key and deleting the old key.\n",
    "\n",
    "    :param bucket_name: Name of the S3 bucket\n",
    "    :param source_key: Source key of the object to move\n",
    "    :param destination_key: Destination key of the object\n",
    "    \"\"\"\n",
    "    # fill this out...\n",
    "\n",
    "\n",
    "\"\"\"Test the rename_folder_in_bucket function.\"\"\"\n",
    "\n",
    "\n",
    "def upload_file_to_bucket(\n",
    "    local_fpath: str | Path,\n",
    "    bucket_name: str,\n",
    "    target_key_in_bucket: str,\n",
    "):\n",
    "    \"\"\"\n",
    "    Upload a file to an S3 bucket.\n",
    "\n",
    "    :param local_fpath: Local file path to upload\n",
    "    :param bucket_name: Name of the bucket to upload the file to\n",
    "    :param target_key_in_bucket: Key to upload the file to in the bucket\n",
    "    \"\"\"\n",
    "    local_fpath = Path(local_fpath)\n",
    "    with open(local_fpath, \"rb\") as file:\n",
    "        S3_CLIENT.put_object(Bucket=bucket_name, Key=target_key_in_bucket, Body=file)\n",
    "\n",
    "\n",
    "# Create test objects in the source folder\n",
    "test_source_folder = \"nested/source-folder/\"\n",
    "test_dest_folder = \"nested/destination-folder/\"\n",
    "\n",
    "create_bucket(bucket_name=BUCKET_NAME)\n",
    "\n",
    "# Upload test files to source folder\n",
    "upload_file_to_bucket(\n",
    "    local_fpath=\"test_dir/file1.txt\", bucket_name=BUCKET_NAME, target_key_in_bucket=test_source_folder + \"file1.txt\"\n",
    ")\n",
    "upload_file_to_bucket(\n",
    "    local_fpath=\"test_dir/file2.txt\", bucket_name=BUCKET_NAME, target_key_in_bucket=test_source_folder + \"file2.txt\"\n",
    ")\n",
    "upload_file_to_bucket(\n",
    "    local_fpath=\"test_dir/subdir/file3.txt\",\n",
    "    bucket_name=BUCKET_NAME,\n",
    "    target_key_in_bucket=test_source_folder + \"subdir/file3.txt\",\n",
    ")\n",
    "\n",
    "# Rename the source folder to the destination folder\n",
    "rename_folder_in_bucket(\n",
    "    bucket_name=BUCKET_NAME,\n",
    "    old_folder_prefix=test_source_folder,\n",
    "    new_folder_prefix=test_dest_folder,\n",
    ")\n",
    "\n",
    "# List all objects in the destination folder\n",
    "objects = list_all_objects_in_bucket_by_prefix(bucket_name=BUCKET_NAME, prefix=test_dest_folder)\n",
    "print(objects)"
   ]
  }
 ],
 "metadata": {
  "kernelspec": {
   "display_name": "Python 3",
   "language": "python",
   "name": "python3"
  },
  "language_info": {
   "codemirror_mode": {
    "name": "ipython",
    "version": 3
   },
   "file_extension": ".py",
   "mimetype": "text/x-python",
   "name": "python",
   "nbconvert_exporter": "python",
   "pygments_lexer": "ipython3",
   "version": "3.12.3"
  }
 },
 "nbformat": 4,
 "nbformat_minor": 4
}
